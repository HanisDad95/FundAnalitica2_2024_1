{
 "cells": [
  {
   "cell_type": "markdown",
   "metadata": {},
   "source": [
    "## Taller 01 Kagle\n",
    "##### Mary Yuliana Jaramillo - github.com/maryyuliana\n",
    "##### Juan Fernando Gómez - github.com/HanisDad95"
   ]
  },
  {
   "cell_type": "markdown",
   "metadata": {},
   "source": [
    "#### 1. Importar paquetes"
   ]
  },
  {
   "cell_type": "code",
   "execution_count": 74,
   "metadata": {},
   "outputs": [],
   "source": [
    "import pandas as pd\n",
    "import numpy as np\n",
    "import scipy\n",
    "pd.set_option('display.max_columns',None)\n",
    "import matplotlib.pyplot as plt\n",
    "import seaborn as sns\n",
    "from numpy.random import randint\n",
    "from sklearn.base import BaseEstimator, TransformerMixin\n",
    "from sklearn.pipeline import Pipeline\n",
    "from sklearn.decomposition import PCA\n",
    "from sklearn.compose import ColumnTransformer\n",
    "from sklearn.impute import *\n",
    "from sklearn.compose import ColumnTransformer\n",
    "from sklearn.pipeline import Pipeline\n",
    "from sklearn.model_selection import train_test_split,cross_val_score\n",
    "from sklearn.svm import SVC"
   ]
  },
  {
   "cell_type": "markdown",
   "metadata": {},
   "source": [
    "#### 2. Análsis Exploratorio de Datos"
   ]
  },
  {
   "cell_type": "markdown",
   "metadata": {},
   "source": [
    "###### Cargue de datos"
   ]
  },
  {
   "cell_type": "code",
   "execution_count": 75,
   "metadata": {},
   "outputs": [],
   "source": [
    "url = \"https://github.com/HanisDad95/FundAnalitica2_2024_1/raw/master/df_test.parquet\""
   ]
  },
  {
   "cell_type": "code",
   "execution_count": 77,
   "metadata": {},
   "outputs": [
    {
     "data": {
      "text/html": [
       "<div>\n",
       "<style scoped>\n",
       "    .dataframe tbody tr th:only-of-type {\n",
       "        vertical-align: middle;\n",
       "    }\n",
       "\n",
       "    .dataframe tbody tr th {\n",
       "        vertical-align: top;\n",
       "    }\n",
       "\n",
       "    .dataframe thead th {\n",
       "        text-align: right;\n",
       "    }\n",
       "</style>\n",
       "<table border=\"1\" class=\"dataframe\">\n",
       "  <thead>\n",
       "    <tr style=\"text-align: right;\">\n",
       "      <th></th>\n",
       "      <th>GENERO</th>\n",
       "      <th>ESTADO_CIVIL</th>\n",
       "      <th>FECHA_NACIMIENTO</th>\n",
       "      <th>CODIGO_SEDE</th>\n",
       "      <th>MULTI_CANCER</th>\n",
       "      <th>CESION</th>\n",
       "      <th>RIESGOS</th>\n",
       "      <th>CANCER_MAMA_FAMILIAR</th>\n",
       "      <th>CANCER_OTRO_SITIO</th>\n",
       "      <th>CANCER_OTRO_SITIO_FAMILIAR</th>\n",
       "      <th>CEREBRAL_FAMILIAR</th>\n",
       "      <th>FECHA_DATOS_PESO_TALLA</th>\n",
       "      <th>PESO</th>\n",
       "      <th>TALLA</th>\n",
       "      <th>FECHA_CONSULTA_TENSION</th>\n",
       "      <th>TSISTOLICA</th>\n",
       "      <th>TDIASTOLICA</th>\n",
       "      <th>Fecha_cero</th>\n",
       "      <th>mes_6</th>\n",
       "      <th>mes_5</th>\n",
       "      <th>mes_4</th>\n",
       "      <th>mes_3</th>\n",
       "      <th>mes_2</th>\n",
       "      <th>mes_1</th>\n",
       "      <th>valor_servicio</th>\n",
       "      <th>IV_NIVEL</th>\n",
       "      <th>HOSPI_NO_QUIRURGICA</th>\n",
       "      <th>URGENCIAS</th>\n",
       "      <th>HOSPITALIZACION</th>\n",
       "      <th>CITA_ONCOLOGICA</th>\n",
       "      <th>Biopsias_cancer</th>\n",
       "      <th>radioterapias_cancer</th>\n",
       "      <th>quimioterapias__cancer</th>\n",
       "      <th>hormonoterapias__cancer</th>\n",
       "      <th>cuidado_palitiavo__cancer</th>\n",
       "      <th>inmunoterapias_cancer</th>\n",
       "      <th>Citas_oncologicas_cancer</th>\n",
       "      <th>psiquiatria_cancer</th>\n",
       "      <th>psicologia_cancer</th>\n",
       "      <th>nutricion_cancer</th>\n",
       "      <th>atencion_nutricion</th>\n",
       "    </tr>\n",
       "    <tr>\n",
       "      <th>ID</th>\n",
       "      <th></th>\n",
       "      <th></th>\n",
       "      <th></th>\n",
       "      <th></th>\n",
       "      <th></th>\n",
       "      <th></th>\n",
       "      <th></th>\n",
       "      <th></th>\n",
       "      <th></th>\n",
       "      <th></th>\n",
       "      <th></th>\n",
       "      <th></th>\n",
       "      <th></th>\n",
       "      <th></th>\n",
       "      <th></th>\n",
       "      <th></th>\n",
       "      <th></th>\n",
       "      <th></th>\n",
       "      <th></th>\n",
       "      <th></th>\n",
       "      <th></th>\n",
       "      <th></th>\n",
       "      <th></th>\n",
       "      <th></th>\n",
       "      <th></th>\n",
       "      <th></th>\n",
       "      <th></th>\n",
       "      <th></th>\n",
       "      <th></th>\n",
       "      <th></th>\n",
       "      <th></th>\n",
       "      <th></th>\n",
       "      <th></th>\n",
       "      <th></th>\n",
       "      <th></th>\n",
       "      <th></th>\n",
       "      <th></th>\n",
       "      <th></th>\n",
       "      <th></th>\n",
       "      <th></th>\n",
       "      <th></th>\n",
       "    </tr>\n",
       "  </thead>\n",
       "  <tbody>\n",
       "    <tr>\n",
       "      <th>4380</th>\n",
       "      <td>F</td>\n",
       "      <td>SO</td>\n",
       "      <td>1954-02-10</td>\n",
       "      <td>1007</td>\n",
       "      <td>None</td>\n",
       "      <td>0</td>\n",
       "      <td>4.0</td>\n",
       "      <td>0</td>\n",
       "      <td>0</td>\n",
       "      <td>0</td>\n",
       "      <td>0</td>\n",
       "      <td>2022-12-03</td>\n",
       "      <td>73.0</td>\n",
       "      <td>157.0</td>\n",
       "      <td>2022-12-03</td>\n",
       "      <td>130.0</td>\n",
       "      <td>80.0</td>\n",
       "      <td>2023-03-01</td>\n",
       "      <td>0.0</td>\n",
       "      <td>179130.0</td>\n",
       "      <td>136190.0</td>\n",
       "      <td>141727.0</td>\n",
       "      <td>83780.0</td>\n",
       "      <td>51928.0</td>\n",
       "      <td>592755.0</td>\n",
       "      <td>6.0</td>\n",
       "      <td>0.0</td>\n",
       "      <td>0.0</td>\n",
       "      <td>0.0</td>\n",
       "      <td>2.0</td>\n",
       "      <td>0.0</td>\n",
       "      <td>0.0</td>\n",
       "      <td>0.0</td>\n",
       "      <td>0.0</td>\n",
       "      <td>0.0</td>\n",
       "      <td>0.0</td>\n",
       "      <td>2.0</td>\n",
       "      <td>1.0</td>\n",
       "      <td>0.0</td>\n",
       "      <td>1.0</td>\n",
       "      <td>Una servicio nutricion</td>\n",
       "    </tr>\n",
       "    <tr>\n",
       "      <th>2998</th>\n",
       "      <td>F</td>\n",
       "      <td>CA</td>\n",
       "      <td>1958-06-17</td>\n",
       "      <td>2011</td>\n",
       "      <td>None</td>\n",
       "      <td>1</td>\n",
       "      <td>1.0</td>\n",
       "      <td>0</td>\n",
       "      <td>0</td>\n",
       "      <td>0</td>\n",
       "      <td>0</td>\n",
       "      <td>2023-02-27</td>\n",
       "      <td>61.0</td>\n",
       "      <td>155.0</td>\n",
       "      <td>2023-02-27</td>\n",
       "      <td>110.0</td>\n",
       "      <td>80.0</td>\n",
       "      <td>2023-03-01</td>\n",
       "      <td>0.0</td>\n",
       "      <td>0.0</td>\n",
       "      <td>0.0</td>\n",
       "      <td>0.0</td>\n",
       "      <td>0.0</td>\n",
       "      <td>85655.0</td>\n",
       "      <td>85655.0</td>\n",
       "      <td>0.0</td>\n",
       "      <td>0.0</td>\n",
       "      <td>0.0</td>\n",
       "      <td>0.0</td>\n",
       "      <td>0.0</td>\n",
       "      <td>0.0</td>\n",
       "      <td>0.0</td>\n",
       "      <td>0.0</td>\n",
       "      <td>0.0</td>\n",
       "      <td>0.0</td>\n",
       "      <td>0.0</td>\n",
       "      <td>0.0</td>\n",
       "      <td>0.0</td>\n",
       "      <td>0.0</td>\n",
       "      <td>0.0</td>\n",
       "      <td>Sin servicios nutricion</td>\n",
       "    </tr>\n",
       "  </tbody>\n",
       "</table>\n",
       "</div>"
      ],
      "text/plain": [
       "     GENERO ESTADO_CIVIL FECHA_NACIMIENTO CODIGO_SEDE MULTI_CANCER CESION  \\\n",
       "ID                                                                          \n",
       "4380      F           SO       1954-02-10        1007         None      0   \n",
       "2998      F           CA       1958-06-17        2011         None      1   \n",
       "\n",
       "      RIESGOS CANCER_MAMA_FAMILIAR CANCER_OTRO_SITIO  \\\n",
       "ID                                                     \n",
       "4380      4.0                    0                 0   \n",
       "2998      1.0                    0                 0   \n",
       "\n",
       "     CANCER_OTRO_SITIO_FAMILIAR CEREBRAL_FAMILIAR FECHA_DATOS_PESO_TALLA  \\\n",
       "ID                                                                         \n",
       "4380                          0                 0             2022-12-03   \n",
       "2998                          0                 0             2023-02-27   \n",
       "\n",
       "      PESO  TALLA FECHA_CONSULTA_TENSION  TSISTOLICA  TDIASTOLICA Fecha_cero  \\\n",
       "ID                                                                             \n",
       "4380  73.0  157.0             2022-12-03       130.0         80.0 2023-03-01   \n",
       "2998  61.0  155.0             2023-02-27       110.0         80.0 2023-03-01   \n",
       "\n",
       "      mes_6     mes_5     mes_4     mes_3    mes_2    mes_1  valor_servicio  \\\n",
       "ID                                                                            \n",
       "4380    0.0  179130.0  136190.0  141727.0  83780.0  51928.0        592755.0   \n",
       "2998    0.0       0.0       0.0       0.0      0.0  85655.0         85655.0   \n",
       "\n",
       "      IV_NIVEL  HOSPI_NO_QUIRURGICA  URGENCIAS  HOSPITALIZACION  \\\n",
       "ID                                                                \n",
       "4380       6.0                  0.0        0.0              0.0   \n",
       "2998       0.0                  0.0        0.0              0.0   \n",
       "\n",
       "      CITA_ONCOLOGICA  Biopsias_cancer  radioterapias_cancer  \\\n",
       "ID                                                             \n",
       "4380              2.0              0.0                   0.0   \n",
       "2998              0.0              0.0                   0.0   \n",
       "\n",
       "      quimioterapias__cancer  hormonoterapias__cancer  \\\n",
       "ID                                                      \n",
       "4380                     0.0                      0.0   \n",
       "2998                     0.0                      0.0   \n",
       "\n",
       "      cuidado_palitiavo__cancer  inmunoterapias_cancer  \\\n",
       "ID                                                       \n",
       "4380                        0.0                    0.0   \n",
       "2998                        0.0                    0.0   \n",
       "\n",
       "      Citas_oncologicas_cancer  psiquiatria_cancer  psicologia_cancer  \\\n",
       "ID                                                                      \n",
       "4380                       2.0                 1.0                0.0   \n",
       "2998                       0.0                 0.0                0.0   \n",
       "\n",
       "      nutricion_cancer       atencion_nutricion  \n",
       "ID                                               \n",
       "4380               1.0   Una servicio nutricion  \n",
       "2998               0.0  Sin servicios nutricion  "
      ]
     },
     "execution_count": 77,
     "metadata": {},
     "output_type": "execute_result"
    }
   ],
   "source": [
    "full_data= pd.read_parquet(url)\n",
    "full_data.head(2)"
   ]
  },
  {
   "cell_type": "markdown",
   "metadata": {},
   "source": [
    "##### Análisis de datos faltantes"
   ]
  },
  {
   "cell_type": "code",
   "execution_count": 78,
   "metadata": {},
   "outputs": [],
   "source": [
    "full_data = pd.DataFrame(full_data)"
   ]
  },
  {
   "cell_type": "code",
   "execution_count": 59,
   "metadata": {},
   "outputs": [
    {
     "data": {
      "text/plain": [
       "GENERO                                object\n",
       "ESTADO_CIVIL                          object\n",
       "FECHA_NACIMIENTO              datetime64[us]\n",
       "CODIGO_SEDE                           object\n",
       "MULTI_CANCER                          object\n",
       "CESION                                object\n",
       "RIESGOS                              float64\n",
       "CANCER_MAMA_FAMILIAR                  object\n",
       "CANCER_OTRO_SITIO                     object\n",
       "CANCER_OTRO_SITIO_FAMILIAR            object\n",
       "CEREBRAL_FAMILIAR                     object\n",
       "FECHA_DATOS_PESO_TALLA        datetime64[us]\n",
       "PESO                                 float64\n",
       "TALLA                                float64\n",
       "FECHA_CONSULTA_TENSION        datetime64[us]\n",
       "TSISTOLICA                           float64\n",
       "TDIASTOLICA                          float64\n",
       "Fecha_cero                    datetime64[us]\n",
       "mes_6                                float64\n",
       "mes_5                                float64\n",
       "mes_4                                float64\n",
       "mes_3                                float64\n",
       "mes_2                                float64\n",
       "mes_1                                float64\n",
       "valor_servicio                       float64\n",
       "IV_NIVEL                             float64\n",
       "HOSPI_NO_QUIRURGICA                  float64\n",
       "URGENCIAS                            float64\n",
       "HOSPITALIZACION                      float64\n",
       "CITA_ONCOLOGICA                      float64\n",
       "Biopsias_cancer                      float64\n",
       "radioterapias_cancer                 float64\n",
       "quimioterapias__cancer               float64\n",
       "hormonoterapias__cancer              float64\n",
       "cuidado_palitiavo__cancer            float64\n",
       "inmunoterapias_cancer                float64\n",
       "Citas_oncologicas_cancer             float64\n",
       "psiquiatria_cancer                   float64\n",
       "psicologia_cancer                    float64\n",
       "nutricion_cancer                     float64\n",
       "atencion_nutricion                    object\n",
       "dtype: object"
      ]
     },
     "execution_count": 59,
     "metadata": {},
     "output_type": "execute_result"
    }
   ],
   "source": [
    "full_data.dtypes"
   ]
  },
  {
   "cell_type": "code",
   "execution_count": 80,
   "metadata": {},
   "outputs": [
    {
     "data": {
      "image/png": "[encoded data removed]",
      "text/plain": [
       "<Figure size 640x480 with 1 Axes>"
      ]
     },
     "metadata": {},
     "output_type": "display_data"
    }
   ],
   "source": [
    "ax = full_data.loc[:,full_data.columns[full_data.isna().sum() > 0]].isna().sum().plot(kind = 'barh')\n",
    "ax.bar_label(ax.containers[0])\n",
    "plt.title('Datos faltantes por variable')\n",
    "plt.show()"
   ]
  },
  {
   "cell_type": "code",
   "execution_count": 81,
   "metadata": {},
   "outputs": [
    {
     "name": "stdout",
     "output_type": "stream",
     "text": [
      "En el dataset hay 1476 observaciones con datos nulos o faltantes en 1 de sus variables.\n",
      "En el dataset hay 150 observaciones sin datos nulos.\n",
      "En el dataset hay 53 observaciones con datos nulos o faltantes en 5 de sus variables.\n",
      "En el dataset hay 9 observaciones con datos nulos o faltantes en 3 de sus variables.\n",
      "En el dataset hay 4 observaciones con datos nulos o faltantes en 4 de sus variables.\n",
      "En el dataset hay 3 observaciones con datos nulos o faltantes en 2 de sus variables.\n"
     ]
    }
   ],
   "source": [
    "for i, j in full_data.isna().sum(axis = 1).value_counts().items():\n",
    "    match i:\n",
    "        case 0: \n",
    "            print(f'En el dataset hay {j} observaciones sin datos nulos.')   \n",
    "        case _:\n",
    "            print(f'En el dataset hay {j} observaciones con datos nulos o faltantes en {i} de sus variables.')"
   ]
  },
  {
   "cell_type": "code",
   "execution_count": 82,
   "metadata": {},
   "outputs": [],
   "source": [
    "def ImputarCeros(data):\n",
    "    # Creamos un imputador con la estrategia 'constant'\n",
    "    VariableImputar = 'MULTI_CANCER'\n",
    "    imputer = SimpleImputer(missing_values = None,strategy='constant', fill_value=0)\n",
    "    \n",
    "    # Separar las columnas en Parte1 (sin la variable a imputar) y Parte2 (solo la variable a imputar)\n",
    "    Parte1 = data.drop(columns=VariableImputar)\n",
    "    Parte2 = data[VariableImputar]\n",
    "    \n",
    "    # Imputar ceros en Parte1\n",
    "    Parte2_imputed = pd.DataFrame(imputer.fit_transform(Parte2.values.reshape(-1, 1)), columns=[VariableImputar], index=Parte2.index)\n",
    "\n",
    "    \n",
    "    # Concatenar Parte2 con Parte1 imputado\n",
    "    data_imputed = pd.concat([Parte1, Parte2_imputed], axis=1)\n",
    "    \n",
    "    return data_imputed"
   ]
  },
  {
   "cell_type": "code",
   "execution_count": 86,
   "metadata": {},
   "outputs": [],
   "source": [
    "data_full2 = ImputarCeros(full_data).head(2)"
   ]
  },
  {
   "cell_type": "code",
   "execution_count": 88,
   "metadata": {},
   "outputs": [
    {
     "name": "stdout",
     "output_type": "stream",
     "text": [
      "<class 'pandas.core.frame.DataFrame'>\n",
      "Index: 2 entries, 4380 to 2998\n",
      "Data columns (total 41 columns):\n",
      " #   Column                      Non-Null Count  Dtype         \n",
      "---  ------                      --------------  -----         \n",
      " 0   GENERO                      2 non-null      object        \n",
      " 1   ESTADO_CIVIL                2 non-null      object        \n",
      " 2   FECHA_NACIMIENTO            2 non-null      datetime64[us]\n",
      " 3   CODIGO_SEDE                 2 non-null      object        \n",
      " 4   CESION                      2 non-null      object        \n",
      " 5   RIESGOS                     2 non-null      float64       \n",
      " 6   CANCER_MAMA_FAMILIAR        2 non-null      object        \n",
      " 7   CANCER_OTRO_SITIO           2 non-null      object        \n",
      " 8   CANCER_OTRO_SITIO_FAMILIAR  2 non-null      object        \n",
      " 9   CEREBRAL_FAMILIAR           2 non-null      object        \n",
      " 10  FECHA_DATOS_PESO_TALLA      2 non-null      datetime64[us]\n",
      " 11  PESO                        2 non-null      float64       \n",
      " 12  TALLA                       2 non-null      float64       \n",
      " 13  FECHA_CONSULTA_TENSION      2 non-null      datetime64[us]\n",
      " 14  TSISTOLICA                  2 non-null      float64       \n",
      " 15  TDIASTOLICA                 2 non-null      float64       \n",
      " 16  Fecha_cero                  2 non-null      datetime64[us]\n",
      " 17  mes_6                       2 non-null      float64       \n",
      " 18  mes_5                       2 non-null      float64       \n",
      " 19  mes_4                       2 non-null      float64       \n",
      " 20  mes_3                       2 non-null      float64       \n",
      " 21  mes_2                       2 non-null      float64       \n",
      " 22  mes_1                       2 non-null      float64       \n",
      " 23  valor_servicio              2 non-null      float64       \n",
      " 24  IV_NIVEL                    2 non-null      float64       \n",
      " 25  HOSPI_NO_QUIRURGICA         2 non-null      float64       \n",
      " 26  URGENCIAS                   2 non-null      float64       \n",
      " 27  HOSPITALIZACION             2 non-null      float64       \n",
      " 28  CITA_ONCOLOGICA             2 non-null      float64       \n",
      " 29  Biopsias_cancer             2 non-null      float64       \n",
      " 30  radioterapias_cancer        2 non-null      float64       \n",
      " 31  quimioterapias__cancer      2 non-null      float64       \n",
      " 32  hormonoterapias__cancer     2 non-null      float64       \n",
      " 33  cuidado_palitiavo__cancer   2 non-null      float64       \n",
      " 34  inmunoterapias_cancer       2 non-null      float64       \n",
      " 35  Citas_oncologicas_cancer    2 non-null      float64       \n",
      " 36  psiquiatria_cancer          2 non-null      float64       \n",
      " 37  psicologia_cancer           2 non-null      float64       \n",
      " 38  nutricion_cancer            2 non-null      float64       \n",
      " 39  atencion_nutricion          2 non-null      object        \n",
      " 40  MULTI_CANCER                2 non-null      object        \n",
      "dtypes: datetime64[us](4), float64(27), object(10)\n",
      "memory usage: 672.0+ bytes\n"
     ]
    }
   ],
   "source": [
    "data_full2.info()"
   ]
  },
  {
   "cell_type": "code",
   "execution_count": 28,
   "metadata": {},
   "outputs": [
    {
     "ename": "KeyError",
     "evalue": "'Target'",
     "output_type": "error",
     "traceback": [
      "\u001b[1;31m---------------------------------------------------------------------------\u001b[0m",
      "\u001b[1;31mKeyError\u001b[0m                                  Traceback (most recent call last)",
      "File \u001b[1;32mc:\\Users\\yulia\\AppData\\Local\\Programs\\Python\\Python311\\Lib\\site-packages\\pandas\\core\\indexes\\base.py:3790\u001b[0m, in \u001b[0;36mIndex.get_loc\u001b[1;34m(self, key)\u001b[0m\n\u001b[0;32m   3789\u001b[0m \u001b[38;5;28;01mtry\u001b[39;00m:\n\u001b[1;32m-> 3790\u001b[0m     \u001b[38;5;28;01mreturn\u001b[39;00m \u001b[38;5;28;43mself\u001b[39;49m\u001b[38;5;241;43m.\u001b[39;49m\u001b[43m_engine\u001b[49m\u001b[38;5;241;43m.\u001b[39;49m\u001b[43mget_loc\u001b[49m\u001b[43m(\u001b[49m\u001b[43mcasted_key\u001b[49m\u001b[43m)\u001b[49m\n\u001b[0;32m   3791\u001b[0m \u001b[38;5;28;01mexcept\u001b[39;00m \u001b[38;5;167;01mKeyError\u001b[39;00m \u001b[38;5;28;01mas\u001b[39;00m err:\n",
      "File \u001b[1;32mindex.pyx:152\u001b[0m, in \u001b[0;36mpandas._libs.index.IndexEngine.get_loc\u001b[1;34m()\u001b[0m\n",
      "File \u001b[1;32mindex.pyx:181\u001b[0m, in \u001b[0;36mpandas._libs.index.IndexEngine.get_loc\u001b[1;34m()\u001b[0m\n",
      "File \u001b[1;32mpandas\\_libs\\hashtable_class_helper.pxi:7080\u001b[0m, in \u001b[0;36mpandas._libs.hashtable.PyObjectHashTable.get_item\u001b[1;34m()\u001b[0m\n",
      "File \u001b[1;32mpandas\\_libs\\hashtable_class_helper.pxi:7088\u001b[0m, in \u001b[0;36mpandas._libs.hashtable.PyObjectHashTable.get_item\u001b[1;34m()\u001b[0m\n",
      "\u001b[1;31mKeyError\u001b[0m: 'Target'",
      "\nThe above exception was the direct cause of the following exception:\n",
      "\u001b[1;31mKeyError\u001b[0m                                  Traceback (most recent call last)",
      "Cell \u001b[1;32mIn[28], line 1\u001b[0m\n\u001b[1;32m----> 1\u001b[0m ax \u001b[38;5;241m=\u001b[39m \u001b[43mfull_data\u001b[49m\u001b[43m[\u001b[49m\u001b[38;5;124;43m'\u001b[39;49m\u001b[38;5;124;43mTarget\u001b[39;49m\u001b[38;5;124;43m'\u001b[39;49m\u001b[43m]\u001b[49m\u001b[38;5;241m.\u001b[39mplot(kind \u001b[38;5;241m=\u001b[39m \u001b[38;5;124m'\u001b[39m\u001b[38;5;124mbar\u001b[39m\u001b[38;5;124m'\u001b[39m)\n\u001b[0;32m      2\u001b[0m labels \u001b[38;5;241m=\u001b[39m (full_data\u001b[38;5;241m.\u001b[39mTarget\u001b[38;5;241m.\u001b[39mvalue_counts(normalize \u001b[38;5;241m=\u001b[39m \u001b[38;5;28;01mTrue\u001b[39;00m)\u001b[38;5;241m.\u001b[39msort_index()\u001b[38;5;241m*\u001b[39m\u001b[38;5;241m100\u001b[39m)\u001b[38;5;241m.\u001b[39mround(\u001b[38;5;241m1\u001b[39m)\u001b[38;5;241m.\u001b[39mastype(\u001b[38;5;124m'\u001b[39m\u001b[38;5;124mstr\u001b[39m\u001b[38;5;124m'\u001b[39m) \u001b[38;5;241m+\u001b[39m \u001b[38;5;124m'\u001b[39m\u001b[38;5;124m%\u001b[39m\u001b[38;5;124m'\u001b[39m \n\u001b[0;32m      3\u001b[0m ax\u001b[38;5;241m.\u001b[39mtick_params(axis \u001b[38;5;241m=\u001b[39m \u001b[38;5;124m'\u001b[39m\u001b[38;5;124mx\u001b[39m\u001b[38;5;124m'\u001b[39m, rotation \u001b[38;5;241m=\u001b[39m \u001b[38;5;241m0\u001b[39m)\n",
      "File \u001b[1;32mc:\\Users\\yulia\\AppData\\Local\\Programs\\Python\\Python311\\Lib\\site-packages\\pandas\\core\\frame.py:3896\u001b[0m, in \u001b[0;36mDataFrame.__getitem__\u001b[1;34m(self, key)\u001b[0m\n\u001b[0;32m   3894\u001b[0m \u001b[38;5;28;01mif\u001b[39;00m \u001b[38;5;28mself\u001b[39m\u001b[38;5;241m.\u001b[39mcolumns\u001b[38;5;241m.\u001b[39mnlevels \u001b[38;5;241m>\u001b[39m \u001b[38;5;241m1\u001b[39m:\n\u001b[0;32m   3895\u001b[0m     \u001b[38;5;28;01mreturn\u001b[39;00m \u001b[38;5;28mself\u001b[39m\u001b[38;5;241m.\u001b[39m_getitem_multilevel(key)\n\u001b[1;32m-> 3896\u001b[0m indexer \u001b[38;5;241m=\u001b[39m \u001b[38;5;28;43mself\u001b[39;49m\u001b[38;5;241;43m.\u001b[39;49m\u001b[43mcolumns\u001b[49m\u001b[38;5;241;43m.\u001b[39;49m\u001b[43mget_loc\u001b[49m\u001b[43m(\u001b[49m\u001b[43mkey\u001b[49m\u001b[43m)\u001b[49m\n\u001b[0;32m   3897\u001b[0m \u001b[38;5;28;01mif\u001b[39;00m is_integer(indexer):\n\u001b[0;32m   3898\u001b[0m     indexer \u001b[38;5;241m=\u001b[39m [indexer]\n",
      "File \u001b[1;32mc:\\Users\\yulia\\AppData\\Local\\Programs\\Python\\Python311\\Lib\\site-packages\\pandas\\core\\indexes\\base.py:3797\u001b[0m, in \u001b[0;36mIndex.get_loc\u001b[1;34m(self, key)\u001b[0m\n\u001b[0;32m   3792\u001b[0m     \u001b[38;5;28;01mif\u001b[39;00m \u001b[38;5;28misinstance\u001b[39m(casted_key, \u001b[38;5;28mslice\u001b[39m) \u001b[38;5;129;01mor\u001b[39;00m (\n\u001b[0;32m   3793\u001b[0m         \u001b[38;5;28misinstance\u001b[39m(casted_key, abc\u001b[38;5;241m.\u001b[39mIterable)\n\u001b[0;32m   3794\u001b[0m         \u001b[38;5;129;01mand\u001b[39;00m \u001b[38;5;28many\u001b[39m(\u001b[38;5;28misinstance\u001b[39m(x, \u001b[38;5;28mslice\u001b[39m) \u001b[38;5;28;01mfor\u001b[39;00m x \u001b[38;5;129;01min\u001b[39;00m casted_key)\n\u001b[0;32m   3795\u001b[0m     ):\n\u001b[0;32m   3796\u001b[0m         \u001b[38;5;28;01mraise\u001b[39;00m InvalidIndexError(key)\n\u001b[1;32m-> 3797\u001b[0m     \u001b[38;5;28;01mraise\u001b[39;00m \u001b[38;5;167;01mKeyError\u001b[39;00m(key) \u001b[38;5;28;01mfrom\u001b[39;00m \u001b[38;5;21;01merr\u001b[39;00m\n\u001b[0;32m   3798\u001b[0m \u001b[38;5;28;01mexcept\u001b[39;00m \u001b[38;5;167;01mTypeError\u001b[39;00m:\n\u001b[0;32m   3799\u001b[0m     \u001b[38;5;66;03m# If we have a listlike key, _check_indexing_error will raise\u001b[39;00m\n\u001b[0;32m   3800\u001b[0m     \u001b[38;5;66;03m#  InvalidIndexError. Otherwise we fall through and re-raise\u001b[39;00m\n\u001b[0;32m   3801\u001b[0m     \u001b[38;5;66;03m#  the TypeError.\u001b[39;00m\n\u001b[0;32m   3802\u001b[0m     \u001b[38;5;28mself\u001b[39m\u001b[38;5;241m.\u001b[39m_check_indexing_error(key)\n",
      "\u001b[1;31mKeyError\u001b[0m: 'Target'"
     ]
    }
   ],
   "source": [
    "ax = full_data['Target'].value_counts(normalize = True).plot(kind = 'bar')\n",
    "labels = (full_data.Target.value_counts(normalize = True).sort_index()*100).round(1).astype('str') + '%' \n",
    "ax.tick_params(axis = 'x', rotation = 0)\n",
    "ax.set_title(\"Categorías variable dependiente, conjunto de prueba\")\n",
    "ax.set_yticks([])\n",
    "for container in ax.containers:\n",
    "    ax.bar_label(container, labels = labels)\n",
    "ax.set_title('Distribución de la variable respuesta')\n",
    "plt.show()"
   ]
  },
  {
   "cell_type": "code",
   "execution_count": null,
   "metadata": {},
   "outputs": [],
   "source": [
    "full_data.groupby(['ESTADO_CIVIL','Target'])['GENERO'].count().plot(kind = 'bar')\n",
    "ax.tick_params(axis = 'x', rotation = 0)\n",
    "ax.set_title(\"Categorías variable dependiente, conjunto de prueba\")\n",
    "ax.set_title('Distribución de la variable respuesta')\n",
    "plt.show()"
   ]
  },
  {
   "cell_type": "code",
   "execution_count": null,
   "metadata": {},
   "outputs": [],
   "source": [
    "## Se define una función para obtener el índice de las variables categóricas, numéricas y variable objetivo\n",
    "def SepararNumCate(df : pd.DataFrame, target_variable : str):\n",
    "    '''Returns a triplet with column names (numerical, categorical, target)\n",
    "    '''\n",
    "    numerical = df.select_dtypes(include = 'number').columns.to_list()\n",
    "    date_time = df.select_dtypes(include = 'datetime').columns.to_list()\n",
    "    categorical = df.select_dtypes(include = 'object').columns.to_list()\n",
    "    numerical.remove(target_variable) ## REMOVES THE TARGET VARIABLE\n",
    "    target = df[target_variable].copy()\n",
    "    return numerical, date_time, categorical, target\n",
    "\n",
    "\n",
    "num_idx, date_time_idx, categ_idx, target_idx = SepararNumCate(full_data,'Target')"
   ]
  },
  {
   "cell_type": "code",
   "execution_count": null,
   "metadata": {},
   "outputs": [],
   "source": [
    "full_data.select_dtypes(include = 'datetime')"
   ]
  },
  {
   "cell_type": "code",
   "execution_count": null,
   "metadata": {},
   "outputs": [],
   "source": [
    "categ_idx"
   ]
  },
  {
   "cell_type": "code",
   "execution_count": null,
   "metadata": {},
   "outputs": [],
   "source": [
    "full_data.loc[:,num_idx].describe().T"
   ]
  },
  {
   "cell_type": "markdown",
   "metadata": {},
   "source": [
    "#### OUTLIERS UNIVARIADOS"
   ]
  },
  {
   "cell_type": "code",
   "execution_count": null,
   "metadata": {},
   "outputs": [],
   "source": [
    "full_data[full_data.isna().sum(axis = 1) == 1]"
   ]
  },
  {
   "cell_type": "code",
   "execution_count": null,
   "metadata": {},
   "outputs": [],
   "source": [
    "for i in num_idx:\n",
    "    plt.figure()\n",
    "    plt.title(i)\n",
    "    plt.boxplot(train_set[i], vert = False)"
   ]
  },
  {
   "cell_type": "markdown",
   "metadata": {},
   "source": [
    "#### OUTLIERS MULTIVARIADOS"
   ]
  },
  {
   "cell_type": "code",
   "execution_count": null,
   "metadata": {},
   "outputs": [],
   "source": [
    "sns.boxplot(y = full_data.loc[:,['mes_6', 'mes_5', 'mes_4', 'mes_3', 'mes_2', 'mes_1',]].agg('sum', axis = 1), x = full_data['Target'])\n",
    "plt.show()"
   ]
  },
  {
   "cell_type": "code",
   "execution_count": null,
   "metadata": {},
   "outputs": [],
   "source": [
    "full_data.loc[:,['GENERO','Target']].value_counts()"
   ]
  },
  {
   "cell_type": "code",
   "execution_count": null,
   "metadata": {},
   "outputs": [],
   "source": [
    "full_data.loc[full_data['GENERO']=='M',['GENERO','Target']].value_counts(normalize = True)"
   ]
  },
  {
   "cell_type": "markdown",
   "metadata": {},
   "source": [
    "### PIPELINES DE FEATURE ENGINEERING"
   ]
  },
  {
   "cell_type": "code",
   "execution_count": null,
   "metadata": {},
   "outputs": [],
   "source": [
    "### AQUÍ VAN TODAS LAS VARIABLES NUEVAS QUE SE VAN A CREAR\n",
    "class FeatureTransformer(BaseEstimator, TransformerMixin):\n",
    "    def fit(self, X, y=None):\n",
    "        return self\n",
    "\n",
    "    def transform(self, X, y=None):\n",
    "        # Perform arbitary transformation\n",
    "        X['IMC'] = X['PESO']/X['TALLA'] ### HACER UNA MEJOR CONSTRUCCIÓN DE ESTA VARIABLE QUE TOME EN CUENTA LA EDAD\n",
    "        X['SumCosto'] = X.loc[:,['mes_6', 'mes_5', 'mes_4', 'mes_3', 'mes_2', 'mes_1',]].agg(sum, axis = 1) ### \n",
    "        X['EdadComplicacion'] = (((X['Fecha_cero'] - X['FECHA_NACIMIENTO']).dt.components.days)/365).astype(int)\n",
    "\n",
    "        \n",
    "        X.drop(labels = 'Fecha_cero', axis = 1, inplace = True) ## IMPORTANTE ESTE PASO PARA QUE NO VAYAMOS A DEJAR ESTA VARIABLE\n",
    "        return X\n"
   ]
  },
  {
   "cell_type": "markdown",
   "metadata": {},
   "source": [
    "### TRAIN TEST SPLIT"
   ]
  },
  {
   "cell_type": "code",
   "execution_count": null,
   "metadata": {},
   "outputs": [],
   "source": [
    "full_data.groupby(['GENERO','Target']).apply(lambda x : x.sample(frac = 0.9, random_state = 123))"
   ]
  },
  {
   "cell_type": "code",
   "execution_count": null,
   "metadata": {},
   "outputs": [],
   "source": [
    "train, test = train_test_split(full_data,test_size=0.1,stratify = full_data[['Target','GENERO']], shuffle = True, random_state = 123) ## IMPORTANTE MIRAR POR CUALES VARIABLES SE DEBE ESTRATIFICAR"
   ]
  },
  {
   "cell_type": "markdown",
   "metadata": {},
   "source": [
    "### IMPUTATION AND STANDARDIZATION PIPELINES =="
   ]
  },
  {
   "cell_type": "code",
   "execution_count": null,
   "metadata": {},
   "outputs": [],
   "source": [
    "### Pipelines for standardization\n",
    "\n",
    "num_stand = Pipeline(steps = [\n",
    "    ('numScaler',StandardScaler())\n",
    "])\n",
    "\n",
    "categ_stand = Pipeline(steps = [\n",
    "    ('categStand',OneHotEncoder(handle_unkown = 'ignore'))\n",
    "])\n",
    "\n",
    "columnScaler = ColumnTransformer(transformers = \n",
    "    [('numScaler',num_stand,num_idx),\n",
    "     ('categStand', categ_stand, categ_idx)],\n",
    "     remainder = 'drop'\n",
    "    )\n",
    "\n",
    "### Pipelines for imputation\n",
    "\n",
    "num_imp = Pipeline(steps = [\n",
    "    ('numerical_imputer',SimpleImputer(strategy = 'median'))\n",
    "])\n",
    "\n",
    "cat_imp = Pipeline(steps = [\n",
    "    ('categorical_imputer',SimpleImputer(strategy = 'most_frequent'))\n",
    "])\n",
    "\n",
    "columnImputer = ColumnTransformer(transformers = \n",
    "    [('NumericalImputer',num_imp,num_idx),\n",
    "     ('CategoricalImputer',cat_imp, categ_idx)\n",
    "\n",
    "    ],\n",
    "remainder = 'passthrough')"
   ]
  },
  {
   "cell_type": "code",
   "execution_count": null,
   "metadata": {},
   "outputs": [],
   "source": [
    "def SVC(kernel, gamma, C, degree, coef0, tol):\n",
    "    kernel = int(kernel) ## (0,3)\n",
    "    n_jobs = -3 ## to use all but 2 cores.\n",
    "    kernels = ['linear','polynomial','rbf','sigmoid']\n",
    "    # match kernel:\n",
    "    #     case 2:\n",
    "    #         # use gamma : must be non-negative\n",
    "    #     case _:\n",
    "    #         # dont use gamma\n",
    "    classificator = SVC(C = C, kernel = kernels[kernel], class_weight = )\n",
    "    return -np.median(cross_val_score(classificator, x_train, y_train, n_jobs = n_jobs, cv = 5, scoring = 'f1'))"
   ]
  },
  {
   "cell_type": "code",
   "execution_count": null,
   "metadata": {},
   "outputs": [],
   "source": [
    "pbounds = {\n",
    "    \n",
    "}"
   ]
  }
 ],
 "metadata": {
  "kernelspec": {
   "display_name": "Python 3",
   "language": "python",
   "name": "python3"
  },
  "language_info": {
   "codemirror_mode": {
    "name": "ipython",
    "version": 3
   },
   "file_extension": ".py",
   "mimetype": "text/x-python",
   "name": "python",
   "nbconvert_exporter": "python",
   "pygments_lexer": "ipython3",
   "version": "3.11.5"
  },
  "orig_nbformat": 4,
  "vscode": {
   "interpreter": {
    "hash": "d0cba59e8686724c8b06d06e1b035ecd6727a6f1ef058d75f8ca5298c8c61292"
   }
  }
 },
 "nbformat": 4,
 "nbformat_minor": 2
}
